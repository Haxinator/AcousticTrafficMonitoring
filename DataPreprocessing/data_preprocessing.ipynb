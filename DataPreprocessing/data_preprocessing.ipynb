{
 "cells": [
  {
   "cell_type": "code",
   "execution_count": 1,
   "id": "1e53897e-fe40-43bc-936e-1848e4326c3b",
   "metadata": {},
   "outputs": [
    {
     "name": "stdout",
     "output_type": "stream",
     "text": [
      "D:\\data\n"
     ]
    }
   ],
   "source": [
    "import os\n",
    "os.chdir(\"D:/data\")  # 切换到 D 盘的 data 目录\n",
    "print(os.getcwd())"
   ]
  },
  {
   "cell_type": "code",
   "execution_count": 10,
   "id": "935b7390-ee5e-4cbd-8df8-c1529195e302",
   "metadata": {},
   "outputs": [
    {
     "name": "stdout",
     "output_type": "stream",
     "text": [
      "Saved unified label file: D:/DATA/SD_data\\all_audio_labels.csv\n"
     ]
    }
   ],
   "source": [
    "import os\n",
    "import pandas as pd\n",
    "\n",
    "base_dir = \"D:/DATA/SD_data\"\n",
    "loc_folders = [f\"loc{i}\" for i in range(1, 7)]\n",
    "splits = [\"train\", \"val\"]\n",
    "\n",
    "all_entries = []\n",
    "\n",
    "for loc in loc_folders:\n",
    "    for split in splits:\n",
    "        csv_path = os.path.join(base_dir, loc, f\"{split}.csv\")\n",
    "        if not os.path.exists(csv_path):\n",
    "            print(f\"Missing: {csv_path}\")\n",
    "            continue\n",
    "\n",
    "        df = pd.read_csv(csv_path)\n",
    "\n",
    "        # Calculate total number of cars and CVs\n",
    "        df[\"car_total\"] = df[\"car_left\"] + df[\"car_right\"]\n",
    "        df[\"cv_total\"] = df[\"cv_left\"] + df[\"cv_right\"]\n",
    "\n",
    "        # Assign label based on vehicle type\n",
    "        def classify(row):\n",
    "            if row[\"car_total\"] > 0 and row[\"cv_total\"] == 0:\n",
    "                return 0  # only car\n",
    "            elif row[\"cv_total\"] > 0 and row[\"car_total\"] == 0:\n",
    "                return 1  # only CV\n",
    "            elif row[\"cv_total\"] == 0 and row[\"car_total\"] == 0:\n",
    "                return 2  #none\n",
    "            \n",
    "\n",
    "        df[\"label\"] = df.apply(classify, axis=1)\n",
    "        df = df[df[\"label\"].notna()]\n",
    "\n",
    "        # Use relative path (from base_dir)\n",
    "        df[\"rel_path\"] = df[\"path\"].apply(lambda x: os.path.join(loc, x.replace(\"/\", os.sep)))\n",
    "\n",
    "        df[\"loc\"] = loc\n",
    "        df[\"split\"] = split\n",
    "\n",
    "        all_entries.append(df[[\"rel_path\", \"label\", \"loc\", \"split\"]])\n",
    "\n",
    "# Combine all rows\n",
    "all_data = pd.concat(all_entries, ignore_index=True)\n",
    "\n",
    "# Save to unified CSV\n",
    "output_csv = os.path.join(base_dir, \"all_audio_labels.csv\")\n",
    "all_data.to_csv(output_csv, index=False)\n",
    "print(f\"Saved unified label file: {output_csv}\")"
   ]
  },
  {
   "cell_type": "code",
   "execution_count": 26,
   "id": "5f6c3bb2-a331-4e1b-ae3d-d2816bedea5e",
   "metadata": {},
   "outputs": [
    {
     "name": "stderr",
     "output_type": "stream",
     "text": [
      "100%|████████████████████████████████████████████████████████████████████████████| 10266/10266 [14:21<00:00, 11.91it/s]\n"
     ]
    },
    {
     "name": "stdout",
     "output_type": "stream",
     "text": [
      "\n",
      "✅ Saved segmented vehicle clips to D:/DATA/SD_data\\vehicle_segments\\vehicle_clips.csv\n"
     ]
    }
   ],
   "source": [
    "import os\n",
    "import pandas as pd\n",
    "import librosa\n",
    "import soundfile as sf\n",
    "import numpy as np\n",
    "from tqdm import tqdm\n",
    "\n",
    "def normalize_energy(energy_array):\n",
    "    return (energy_array - np.min(energy_array)) / (np.max(energy_array) - np.min(energy_array) + 1e-8)\n",
    "\n",
    "def process_flac_and_save_segments(row, output_base, sr=16000,\n",
    "                                   segment_duration_vehicle=1.0,\n",
    "                                   segment_duration_bg=1.0,\n",
    "                                   baseline_secs=3, threshold_ratio=0.3):\n",
    "    abs_path = os.path.join(\"D:/DATA/SD_data\", row[\"rel_path\"])  # ✅ abspath\n",
    "    label = int(row[\"label\"])\n",
    "    loc = row[\"loc\"]\n",
    "    split = row[\"split\"]\n",
    "\n",
    "    try:\n",
    "        y, _ = librosa.load(abs_path, sr=sr)\n",
    "    except Exception as e:\n",
    "        print(f\"❌ Error loading {abs_path}: {e}\")\n",
    "        return []\n",
    "\n",
    "    entries = []\n",
    "\n",
    "    if label == 2:\n",
    "        # === Background: fixed 1s segmentation ===\n",
    "        seg_len = int(sr * segment_duration_bg)\n",
    "        num_segs = len(y) // seg_len\n",
    "\n",
    "        for i in range(num_segs):\n",
    "            start = i * seg_len\n",
    "            end = start + seg_len\n",
    "            segment = y[start:end]\n",
    "            if len(segment) < seg_len:\n",
    "                continue\n",
    "\n",
    "            filename = f\"{loc}_{split}_{os.path.basename(abs_path).replace('.flac','')}_bg_{i+1:03d}.wav\"\n",
    "            out_dir = os.path.join(output_base, \"background\")\n",
    "            os.makedirs(out_dir, exist_ok=True)\n",
    "            out_path = os.path.join(out_dir, filename)\n",
    "            sf.write(out_path, segment, sr)\n",
    "            entries.append({\"filepath\": os.path.relpath(out_path, output_base), \"label\": label})\n",
    "\n",
    "    elif label in [0, 1]:\n",
    "        # === Car / CV: energy threshold filtering ===\n",
    "        seg_len = int(sr * segment_duration_vehicle)\n",
    "        num_segs = len(y) // seg_len\n",
    "        energies = [np.sqrt(np.mean(y[i * seg_len:(i + 1) * seg_len] ** 2)) for i in range(num_segs)]\n",
    "        energies = np.array(energies)\n",
    "        energies_norm = normalize_energy(energies)\n",
    "        baseline = np.mean(energies_norm[:baseline_secs])\n",
    "        threshold = baseline + threshold_ratio\n",
    "        smoothed = np.convolve(energies_norm, np.ones(3) / 3, mode='same')\n",
    "        active = smoothed > threshold\n",
    "\n",
    "        for i, is_active in enumerate(active):\n",
    "            if not is_active:\n",
    "                continue\n",
    "            start = i * seg_len\n",
    "            end = start + seg_len\n",
    "            segment = y[start:end]\n",
    "            if len(segment) < seg_len:\n",
    "                continue\n",
    "\n",
    "            class_dir = \"car\" if label == 0 else \"cv\"\n",
    "            filename = f\"{loc}_{split}_{os.path.basename(abs_path).replace('.flac','')}_seg2s_{i+1:03d}.wav\"\n",
    "            out_dir = os.path.join(output_base, class_dir)\n",
    "            os.makedirs(out_dir, exist_ok=True)\n",
    "            out_path = os.path.join(out_dir, filename)\n",
    "            sf.write(out_path, segment, sr)\n",
    "            entries.append({\"filepath\": os.path.relpath(out_path, output_base), \"label\": label})\n",
    "\n",
    "    return entries\n",
    "\n",
    "# ==== Main ====\n",
    "input_csv = \"D:/DATA/SD_data/all_audio_labels.csv\"\n",
    "base_dir = \"D:/DATA/SD_data\"\n",
    "output_base = os.path.join(base_dir, \"vehicle_segments\")\n",
    "output_csv = os.path.join(output_base, \"vehicle_clips.csv\")\n",
    "\n",
    "df = pd.read_csv(input_csv)\n",
    "df = df[df[\"label\"].isin([0, 1, 2])]\n",
    "\n",
    "all_entries = []\n",
    "for _, row in tqdm(df.iterrows(), total=len(df)):\n",
    "    entries = process_flac_and_save_segments(row, output_base)\n",
    "    all_entries.extend(entries)\n",
    "\n",
    "df_out = pd.DataFrame(all_entries)\n",
    "df_out.to_csv(output_csv, index=False)\n",
    "print(f\"\\n✅ Saved segmented vehicle clips to {output_csv}\")\n"
   ]
  },
  {
   "cell_type": "code",
   "execution_count": 27,
   "id": "81be3c9d-6484-4d25-94b4-3e207915f7a1",
   "metadata": {},
   "outputs": [
    {
     "name": "stdout",
     "output_type": "stream",
     "text": [
      "Number of car segments (label=0): 71313\n",
      "Number of cv segments (label=1):  1329\n",
      "Number of bg segments (label=2):  11400\n"
     ]
    }
   ],
   "source": [
    "import pandas as pd\n",
    "\n",
    "csv_path = \"D:/DATA/SD_data/vehicle_segments/vehicle_clips.csv\"\n",
    "df = pd.read_csv(csv_path)\n",
    "\n",
    "car_count = (df[\"label\"] == 0).sum()\n",
    "cv_count = (df[\"label\"] == 1).sum()\n",
    "bg_count = (df[\"label\"] == 2).sum()\n",
    "print(f\"Number of car segments (label=0): {car_count}\")\n",
    "print(f\"Number of cv segments (label=1):  {cv_count}\")\n",
    "print(f\"Number of bg segments (label=2):  {bg_count}\")\n"
   ]
  },
  {
   "cell_type": "code",
   "execution_count": null,
   "id": "5716a621-b637-43bc-b853-f5e3a8299488",
   "metadata": {},
   "outputs": [],
   "source": []
  }
 ],
 "metadata": {
  "kernelspec": {
   "display_name": "Python 3 (ipykernel)",
   "language": "python",
   "name": "python3"
  },
  "language_info": {
   "codemirror_mode": {
    "name": "ipython",
    "version": 3
   },
   "file_extension": ".py",
   "mimetype": "text/x-python",
   "name": "python",
   "nbconvert_exporter": "python",
   "pygments_lexer": "ipython3",
   "version": "3.11.7"
  }
 },
 "nbformat": 4,
 "nbformat_minor": 5
}
