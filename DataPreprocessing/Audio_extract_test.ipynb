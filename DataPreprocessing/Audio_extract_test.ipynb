{
 "cells": [
  {
   "cell_type": "code",
   "execution_count": null,
   "id": "54892ce4",
   "metadata": {},
   "outputs": [],
   "source": [
    "import librosa\n",
    "import numpy as np\n",
    "import soundfile as sf\n",
    "import os\n",
    "\n",
    "def normalize_audio(y):\n",
    "    y_normalized = librosa.util.normalize(y)\n",
    "    return y_normalized\n",
    "\n",
    "def segment_and_filter(input_path, output_dir, segment_length=8, energy_threshold=-40):\n",
    "    # Load audio\n",
    "    y, sr = librosa.load(input_path, sr=None)\n",
    "\n",
    "    # Split into x-second segments\n",
    "    segment_samples = sr * segment_length\n",
    "    segments = [y[i:i+segment_samples] for i in range(0, len(y), segment_samples)]\n",
    "\n",
    "    # Save valid segments\n",
    "    valid_segments = []\n",
    "    for i, seg in enumerate(segments):\n",
    "        # Compute energy (dB)\n",
    "        rms = librosa.feature.rms(y=seg)\n",
    "        db = librosa.amplitude_to_db(rms)\n",
    "        avg_db = np.mean(db)\n",
    "\n",
    "        print(avg_db)\n",
    "\n",
    "        # Check energy threshold\n",
    "        if avg_db > energy_threshold:\n",
    "            valid_segments.append(seg)\n",
    "            sf.write(f\"{output_dir}/segment_{i}.flac\", seg, sr)\n",
    "\n",
    "    return valid_segments\n",
    "\n",
    "def augment_cv(audio, sr, noise_path=None):\n",
    "    augmented = []\n",
    "\n",
    "    # Time-domain: Reverse audio\n",
    "    reversed_audio = audio[::-1]\n",
    "    augmented.append(reversed_audio)\n",
    "\n",
    "    # Speed change (0.9x and 1.1x)\n",
    "    for rate in [0.9, 1.1]:\n",
    "        y_stretch = librosa.effects.time_stretch(audio, rate=rate)\n",
    "        augmented.append(y_stretch)\n",
    "\n",
    "    # Add background noise\n",
    "    if noise_path:\n",
    "        noise, _ = librosa.load(noise_path, sr=sr)\n",
    "        min_len = min(len(audio), len(noise))\n",
    "        mixed = audio[:min_len] + 0.2 * noise[:min_len]  # Adjust noise level\n",
    "        augmented.append(mixed)\n",
    "\n",
    "    return augmented"
   ]
  },
  {
   "cell_type": "code",
   "execution_count": null,
   "id": "8535f73e",
   "metadata": {},
   "outputs": [
    {
     "name": "stderr",
     "output_type": "stream",
     "text": [
      "/home/timon-l/devel/CITS5551/AcousticTrafficMonitoring/venv/lib/python3.12/site-packages/setuptools/_distutils/_msvccompiler.py:12: UserWarning: _get_vc_env is private; find an alternative (pypa/distutils#340)\n",
      "  warnings.warn(\n",
      "WARNING    /home/timon-l/devel/CITS5551/AcousticTrafficMonitoring/venv/lib/python3.12/site-packages/tqdm/auto.py:21: TqdmWarning: IProgress not found. Please update jupyter and ipywidgets. See https://ipywidgets.readthedocs.io/en/stable/user_install.html\n",
      "  from .autonotebook import tqdm as notebook_tqdm\n",
      " [py.warnings]\n",
      "WARNING:py.warnings:/home/timon-l/devel/CITS5551/AcousticTrafficMonitoring/venv/lib/python3.12/site-packages/tqdm/auto.py:21: TqdmWarning: IProgress not found. Please update jupyter and ipywidgets. See https://ipywidgets.readthedocs.io/en/stable/user_install.html\n",
      "  from .autonotebook import tqdm as notebook_tqdm\n",
      "\n"
     ]
    },
    {
     "ename": "ModuleNotFoundError",
     "evalue": "No module named 'imp'",
     "output_type": "error",
     "traceback": [
      "\u001b[31m---------------------------------------------------------------------------\u001b[39m",
      "\u001b[31mModuleNotFoundError\u001b[39m                       Traceback (most recent call last)",
      "\u001b[36mCell\u001b[39m\u001b[36m \u001b[39m\u001b[32mIn[2]\u001b[39m\u001b[32m, line 1\u001b[39m\n\u001b[32m----> \u001b[39m\u001b[32m1\u001b[39m \u001b[38;5;28;01mfrom\u001b[39;00m\u001b[38;5;250m \u001b[39m\u001b[34;01mrockpool\u001b[39;00m\u001b[34;01m.\u001b[39;00m\u001b[34;01mdevices\u001b[39;00m\u001b[34;01m.\u001b[39;00m\u001b[34;01mxylo\u001b[39;00m\u001b[34;01m.\u001b[39;00m\u001b[34;01msyns65302\u001b[39;00m\u001b[38;5;250m \u001b[39m\u001b[38;5;28;01mimport\u001b[39;00m AFESimPDM\n\u001b[32m      2\u001b[39m \u001b[38;5;28;01mfrom\u001b[39;00m\u001b[38;5;250m \u001b[39m\u001b[34;01mrockpool\u001b[39;00m\u001b[34;01m.\u001b[39;00m\u001b[34;01mdevices\u001b[39;00m\u001b[34;01m.\u001b[39;00m\u001b[34;01mxylo\u001b[39;00m\u001b[34;01m.\u001b[39;00m\u001b[34;01msyns65302\u001b[39;00m\u001b[38;5;250m \u001b[39m\u001b[38;5;28;01mimport\u001b[39;00m AFESimExternal\n\u001b[32m      4\u001b[39m \u001b[38;5;28;01mdef\u001b[39;00m\u001b[38;5;250m \u001b[39m\u001b[34mextract_features\u001b[39m(audio_path, output_dir):\n\u001b[32m      5\u001b[39m     \u001b[38;5;66;03m# Load audio and preprocess\u001b[39;00m\n",
      "\u001b[36mFile \u001b[39m\u001b[32m~/devel/CITS5551/AcousticTrafficMonitoring/venv/lib/python3.12/site-packages/rockpool/devices/xylo/__init__.py:42\u001b[39m\n\u001b[32m      1\u001b[39m \u001b[33;03m\"\"\"\u001b[39;00m\n\u001b[32m      2\u001b[39m \u001b[33;03mXylo-family device simulations, deployment and HDK support\u001b[39;00m\n\u001b[32m      3\u001b[39m \n\u001b[32m   (...)\u001b[39m\u001b[32m     34\u001b[39m \u001b[33;03m     - Xylo™IMU. One synapse per neuron. 496 hidden neurons, 16 output neurons. Includes direct IMU sensor interface, and IMU IF simulation.\u001b[39;00m\n\u001b[32m     35\u001b[39m \u001b[33;03m\"\"\"\u001b[39;00m\n\u001b[32m     37\u001b[39m \u001b[38;5;28;01mfrom\u001b[39;00m\u001b[38;5;250m \u001b[39m\u001b[34;01mrockpool\u001b[39;00m\u001b[34;01m.\u001b[39;00m\u001b[34;01mutilities\u001b[39;00m\u001b[34;01m.\u001b[39;00m\u001b[34;01mbackend_management\u001b[39;00m\u001b[38;5;250m \u001b[39m\u001b[38;5;28;01mimport\u001b[39;00m (\n\u001b[32m     38\u001b[39m     backend_available,\n\u001b[32m     39\u001b[39m     missing_backend_shim,\n\u001b[32m     40\u001b[39m )\n\u001b[32m---> \u001b[39m\u001b[32m42\u001b[39m \u001b[38;5;28;01mimport\u001b[39;00m\u001b[38;5;250m \u001b[39m\u001b[34;01mrockpool\u001b[39;00m\u001b[34;01m.\u001b[39;00m\u001b[34;01mdevices\u001b[39;00m\u001b[34;01m.\u001b[39;00m\u001b[34;01mxylo\u001b[39;00m\u001b[34;01m.\u001b[39;00m\u001b[34;01msyns61300\u001b[39;00m\u001b[38;5;250m \u001b[39m\u001b[38;5;28;01mas\u001b[39;00m\u001b[38;5;250m \u001b[39m\u001b[34;01mpollen\u001b[39;00m\n\u001b[32m     43\u001b[39m \u001b[38;5;28;01mimport\u001b[39;00m\u001b[38;5;250m \u001b[39m\u001b[34;01mrockpool\u001b[39;00m\u001b[34;01m.\u001b[39;00m\u001b[34;01mdevices\u001b[39;00m\u001b[34;01m.\u001b[39;00m\u001b[34;01mxylo\u001b[39;00m\u001b[34;01m.\u001b[39;00m\u001b[34;01msyns65300\u001b[39;00m\u001b[38;5;250m \u001b[39m\u001b[38;5;28;01mas\u001b[39;00m\u001b[38;5;250m \u001b[39m\u001b[34;01mvA1\u001b[39;00m\n\u001b[32m     44\u001b[39m \u001b[38;5;28;01mimport\u001b[39;00m\u001b[38;5;250m \u001b[39m\u001b[34;01mrockpool\u001b[39;00m\u001b[34;01m.\u001b[39;00m\u001b[34;01mdevices\u001b[39;00m\u001b[34;01m.\u001b[39;00m\u001b[34;01mxylo\u001b[39;00m\u001b[34;01m.\u001b[39;00m\u001b[34;01msyns61201\u001b[39;00m\u001b[38;5;250m \u001b[39m\u001b[38;5;28;01mas\u001b[39;00m\u001b[38;5;250m \u001b[39m\u001b[34;01mvA2\u001b[39;00m\n",
      "\u001b[36mFile \u001b[39m\u001b[32m~/devel/CITS5551/AcousticTrafficMonitoring/venv/lib/python3.12/site-packages/rockpool/devices/xylo/syns61300/__init__.py:37\u001b[39m\n\u001b[32m     34\u001b[39m         \u001b[38;5;28;01mraise\u001b[39;00m\n\u001b[32m     36\u001b[39m \u001b[38;5;28;01mtry\u001b[39;00m:\n\u001b[32m---> \u001b[39m\u001b[32m37\u001b[39m     \u001b[38;5;28;01mfrom\u001b[39;00m\u001b[38;5;250m \u001b[39m\u001b[34;01m.\u001b[39;00m\u001b[34;01mxylo_samna\u001b[39;00m\u001b[38;5;250m \u001b[39m\u001b[38;5;28;01mimport\u001b[39;00m *\n\u001b[32m     38\u001b[39m     \u001b[38;5;28;01mfrom\u001b[39;00m\u001b[38;5;250m \u001b[39m\u001b[34;01m.\u001b[39;00m\u001b[34;01mxylo_devkit_utils\u001b[39;00m\u001b[38;5;250m \u001b[39m\u001b[38;5;28;01mimport\u001b[39;00m *\n\u001b[32m     39\u001b[39m \u001b[38;5;28;01mexcept\u001b[39;00m:\n",
      "\u001b[36mFile \u001b[39m\u001b[32m~/devel/CITS5551/AcousticTrafficMonitoring/venv/lib/python3.12/site-packages/rockpool/devices/xylo/syns61300/xylo_samna.py:25\u001b[39m\n\u001b[32m     22\u001b[39m \u001b[38;5;28;01mfrom\u001b[39;00m\u001b[38;5;250m \u001b[39m\u001b[34;01mrockpool\u001b[39;00m\u001b[34;01m.\u001b[39;00m\u001b[34;01mparameters\u001b[39;00m\u001b[38;5;250m \u001b[39m\u001b[38;5;28;01mimport\u001b[39;00m SimulationParameter\n\u001b[32m     23\u001b[39m \u001b[38;5;28;01mfrom\u001b[39;00m\u001b[38;5;250m \u001b[39m\u001b[34;01mrockpool\u001b[39;00m\u001b[38;5;250m \u001b[39m\u001b[38;5;28;01mimport\u001b[39;00m TSContinuous, TSEvent\n\u001b[32m---> \u001b[39m\u001b[32m25\u001b[39m \u001b[38;5;28;01mfrom\u001b[39;00m\u001b[38;5;250m \u001b[39m\u001b[34;01m.\u001b[39;00m\u001b[38;5;250m \u001b[39m\u001b[38;5;28;01mimport\u001b[39;00m xylo_devkit_utils \u001b[38;5;28;01mas\u001b[39;00m hdkutils\n\u001b[32m     26\u001b[39m \u001b[38;5;28;01mfrom\u001b[39;00m\u001b[38;5;250m \u001b[39m\u001b[34;01m.\u001b[39;00m\u001b[34;01mxylo_devkit_utils\u001b[39;00m\u001b[38;5;250m \u001b[39m\u001b[38;5;28;01mimport\u001b[39;00m XyloHDK\n\u001b[32m     28\u001b[39m \u001b[38;5;66;03m# - Numpy\u001b[39;00m\n",
      "\u001b[36mFile \u001b[39m\u001b[32m~/devel/CITS5551/AcousticTrafficMonitoring/venv/lib/python3.12/site-packages/rockpool/devices/xylo/syns61300/xylo_devkit_utils.py:147\u001b[39m\n\u001b[32m    143\u001b[39m     OWTRAM_state: np.ndarray\n\u001b[32m    144\u001b[39m \u001b[38;5;250m    \u001b[39m\u001b[33;03m\"\"\" np.ndarray: Contents of OWTRAM \"\"\"\u001b[39;00m\n\u001b[32m--> \u001b[39m\u001b[32m147\u001b[39m \u001b[38;5;28;01mfrom\u001b[39;00m\u001b[38;5;250m \u001b[39m\u001b[34;01m.\u001b[39;00m\u001b[34;01m.\u001b[39;00m\u001b[34;01msyns61201\u001b[39;00m\u001b[34;01m.\u001b[39;00m\u001b[34;01mxa2_devkit_utils\u001b[39;00m\u001b[38;5;250m \u001b[39m\u001b[38;5;28;01mimport\u001b[39;00m find_xylo_a2_boards\n\u001b[32m    150\u001b[39m \u001b[38;5;28;01mdef\u001b[39;00m\u001b[38;5;250m \u001b[39m\u001b[34mfind_xylo_boards\u001b[39m() -> List[XyloHDK]:\n\u001b[32m    151\u001b[39m \u001b[38;5;250m    \u001b[39m\u001b[33;03m\"\"\"\u001b[39;00m\n\u001b[32m    152\u001b[39m \u001b[33;03m    Search for and return a list of Xylo HDK\u001b[39;00m\n\u001b[32m    153\u001b[39m \n\u001b[32m   (...)\u001b[39m\u001b[32m    157\u001b[39m \u001b[33;03m        List[XyloHDK]: A (possibly empty) list of Xylo HDK hdks.\u001b[39;00m\n\u001b[32m    158\u001b[39m \u001b[33;03m    \"\"\"\u001b[39;00m\n",
      "\u001b[36mFile \u001b[39m\u001b[32m~/devel/CITS5551/AcousticTrafficMonitoring/venv/lib/python3.12/site-packages/rockpool/devices/xylo/syns61201/__init__.py:61\u001b[39m\n\u001b[32m     58\u001b[39m     \u001b[38;5;28;01melse\u001b[39;00m:\n\u001b[32m     59\u001b[39m         \u001b[38;5;28;01mraise\u001b[39;00m\n\u001b[32m---> \u001b[39m\u001b[32m61\u001b[39m \u001b[38;5;28;01mfrom\u001b[39;00m\u001b[38;5;250m \u001b[39m\u001b[34;01m.\u001b[39;00m\u001b[34;01mxylo_divisive_normalisation\u001b[39;00m\u001b[38;5;250m \u001b[39m\u001b[38;5;28;01mimport\u001b[39;00m *\n",
      "\u001b[36mFile \u001b[39m\u001b[32m~/devel/CITS5551/AcousticTrafficMonitoring/venv/lib/python3.12/site-packages/rockpool/devices/xylo/syns61201/xylo_divisive_normalisation.py:21\u001b[39m\n\u001b[32m     17\u001b[39m \u001b[38;5;28;01mimport\u001b[39;00m\u001b[38;5;250m \u001b[39m\u001b[34;01mnumpy\u001b[39;00m\u001b[38;5;250m \u001b[39m\u001b[38;5;28;01mas\u001b[39;00m\u001b[38;5;250m \u001b[39m\u001b[34;01mnp\u001b[39;00m\n\u001b[32m     19\u001b[39m \u001b[38;5;28;01mimport\u001b[39;00m\u001b[38;5;250m \u001b[39m\u001b[34;01mwarnings\u001b[39;00m\n\u001b[32m---> \u001b[39m\u001b[32m21\u001b[39m \u001b[38;5;28;01mimport\u001b[39;00m\u001b[38;5;250m \u001b[39m\u001b[34;01mimp\u001b[39;00m\n\u001b[32m     22\u001b[39m \u001b[38;5;28;01mimport\u001b[39;00m\u001b[38;5;250m \u001b[39m\u001b[34;01mpathlib\u001b[39;00m\u001b[38;5;250m \u001b[39m\u001b[38;5;28;01mas\u001b[39;00m\u001b[38;5;250m \u001b[39m\u001b[34;01mpl\u001b[39;00m\n\u001b[32m     24\u001b[39m basedir = pl.Path(imp.find_module(\u001b[33m\"\u001b[39m\u001b[33mrockpool\u001b[39m\u001b[33m\"\u001b[39m)[\u001b[32m1\u001b[39m]) / \u001b[33m\"\u001b[39m\u001b[33mdevices\u001b[39m\u001b[33m\"\u001b[39m / \u001b[33m\"\u001b[39m\u001b[33mxylo\u001b[39m\u001b[33m\"\u001b[39m / \u001b[33m\"\u001b[39m\u001b[33msyns61201\u001b[39m\u001b[33m\"\u001b[39m\n",
      "\u001b[31mModuleNotFoundError\u001b[39m: No module named 'imp'"
     ]
    }
   ],
   "source": [
    "from rockpool.devices.xylo.syns65302 import AFESimPDM\n",
    "from rockpool.devices.xylo.syns65302 import AFESimExternal\n",
    "\n",
    "def extract_features(audio_path, output_dir):\n",
    "    # Load audio and preprocess\n",
    "    y, sr = librosa.load(audio_path, sr=16000)  # Resample to 16kHz if needed\n",
    "\n",
    "    # Initialize AFESim\n",
    "    afe = AFESim(sampling_rate=sr)\n",
    "\n",
    "    # Extract features\n",
    "    features = afe(y)\n",
    "\n",
    "    # Save as .npy\n",
    "    np.save(f\"{output_dir}/{os.path.basename(audio_path)}.npy\", features)"
   ]
  },
  {
   "cell_type": "code",
   "execution_count": 2,
   "id": "7aaa5ba1",
   "metadata": {},
   "outputs": [],
   "source": [
    "def encode_spikes(feature_matrix):\n",
    "    # Use AFESim's built-in encoding (pseudo-code)\n",
    "    spike_matrix = AFESim.encode_spikes(feature_matrix)\n",
    "    return spike_matrix"
   ]
  },
  {
   "cell_type": "code",
   "execution_count": 13,
   "id": "7002f623",
   "metadata": {},
   "outputs": [
    {
     "name": "stdout",
     "output_type": "stream",
     "text": [
      "-65.05963\n",
      "-55.305115\n",
      "-55.338783\n",
      "-59.538254\n",
      "-58.140827\n",
      "-56.931057\n",
      "-53.024204\n",
      "-52.632557\n"
     ]
    },
    {
     "data": {
      "text/plain": [
       "[array([0.00048828, 0.00086212, 0.0005188 , ..., 0.00193024, 0.00241852,\n",
       "        0.00086212], dtype=float32),\n",
       " array([ 0.00336456,  0.00157166,  0.00111389, ...,  0.00019836,\n",
       "        -0.00034332,  0.00023651], dtype=float32),\n",
       " array([-2.3651123e-04, -1.5258789e-04,  9.9182129e-05, ...,\n",
       "         1.6784668e-04, -3.8146973e-04, -3.2043457e-04], dtype=float32),\n",
       " array([-0.00041962, -0.00060272, -0.00082397, ..., -0.00131989,\n",
       "        -0.00119781, -0.00119019], dtype=float32),\n",
       " array([-0.00048065, -0.001297  , -0.00126648, ...,  0.00026703,\n",
       "         0.00047302, -0.00041199], dtype=float32),\n",
       " array([-0.00022888,  0.00048828,  0.00021362, ...,  0.00891876,\n",
       "         0.01920319,  0.00262451], dtype=float32),\n",
       " array([-7.9345703e-04,  9.3002319e-03, -7.6980591e-03, ...,\n",
       "        -5.5694580e-04, -6.8664551e-05, -6.8664551e-05], dtype=float32)]"
      ]
     },
     "execution_count": 13,
     "metadata": {},
     "output_type": "execute_result"
    }
   ],
   "source": [
    "#in_path = \"/home/timon-l/devel/CITS5551/10700792/loc4/loc4/train/00006.flac\"\n",
    "#out_dir = \"/home/timon-l/devel/CITS5551/10700792/loc4/loc4/train/output\"\n",
    "in_path = \"/home/timon-l/devel/CITS5551/10700792/loc4/loc4/val/00009.flac\"\n",
    "out_dir = \"/home/timon-l/devel/CITS5551/10700792/loc4/loc4/val/output\"\n",
    "\n",
    "segment_and_filter(in_path, out_dir, energy_threshold=-60)"
   ]
  }
 ],
 "metadata": {
  "kernelspec": {
   "display_name": "venv",
   "language": "python",
   "name": "python3"
  },
  "language_info": {
   "codemirror_mode": {
    "name": "ipython",
    "version": 3
   },
   "file_extension": ".py",
   "mimetype": "text/x-python",
   "name": "python",
   "nbconvert_exporter": "python",
   "pygments_lexer": "ipython3",
   "version": "3.12.3"
  }
 },
 "nbformat": 4,
 "nbformat_minor": 5
}
